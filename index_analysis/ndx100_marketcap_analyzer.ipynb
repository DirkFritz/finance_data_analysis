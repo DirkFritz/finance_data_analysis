{
  "nbformat": 4,
  "nbformat_minor": 0,
  "metadata": {
    "colab": {
      "name": "ndx100_marketcap_analyzer.ipynb",
      "provenance": [],
      "collapsed_sections": [],
      "mount_file_id": "1LaIBMRb7NH_ZyI8S2O2o13IPfR4U5HVj",
      "authorship_tag": "ABX9TyPKl5HF9pJO/VtKQ0KaqR6Z",
      "include_colab_link": true
    },
    "kernelspec": {
      "name": "python3",
      "display_name": "Python 3"
    },
    "language_info": {
      "name": "python"
    }
  },
  "cells": [
    {
      "cell_type": "markdown",
      "metadata": {
        "id": "view-in-github",
        "colab_type": "text"
      },
      "source": [
        "<a href=\"https://colab.research.google.com/github/DirkFritz/finance_data_analysis/blob/main/index_analysis/ndx100_marketcap_analyzer.ipynb\" target=\"_parent\"><img src=\"https://colab.research.google.com/assets/colab-badge.svg\" alt=\"Open In Colab\"/></a>"
      ]
    },
    {
      "cell_type": "code",
      "metadata": {
        "id": "7d4Z5vZxTUIR"
      },
      "source": [
        "import pandas as pd"
      ],
      "execution_count": 1,
      "outputs": []
    },
    {
      "cell_type": "code",
      "metadata": {
        "id": "mTTk-UqTTbYL"
      },
      "source": [
        "nasdaq_df = pd.read_csv('/content/drive/MyDrive/Entwicklung/IndexAnalyzer/nasdaq_screener_1620482682649.csv')\n",
        "nasdaq_df = nasdaq_df.set_index('Symbol')\n",
        "nasdaq_df"
      ],
      "execution_count": null,
      "outputs": []
    },
    {
      "cell_type": "code",
      "metadata": {
        "id": "dcH0s4nsU6zy"
      },
      "source": [
        "nasdaq100_df = pd.read_html('https://en.wikipedia.org/wiki/Nasdaq-100')[3]\n",
        "nasdaq100_df"
      ],
      "execution_count": null,
      "outputs": []
    },
    {
      "cell_type": "code",
      "metadata": {
        "id": "9tzvK3KNWTs3"
      },
      "source": [
        "df=nasdaq_df.loc[nasdaq100_df['Ticker'],:]\n",
        "df[df.columns[1]] = df[df.columns[1]].replace('[\\$,]', '', regex=True).astype(float)\n",
        "df['No Shares'] = df['Market Cap']/df['Last Sale']\n",
        "\n",
        "with pd.option_context('display.max_rows', None, 'display.max_columns', None):\n",
        "  display(df)"
      ],
      "execution_count": null,
      "outputs": []
    },
    {
      "cell_type": "code",
      "metadata": {
        "colab": {
          "base_uri": "https://localhost:8080/"
        },
        "id": "lYUHiCg_k8ek",
        "outputId": "2c317c7b-977b-4d02-ad12-60b1d31fb134"
      },
      "source": [
        "ndx_sectors = df['Sector'].unique()\n",
        "print(ndx_sectors)"
      ],
      "execution_count": 13,
      "outputs": [
        {
          "output_type": "stream",
          "text": [
            "['Technology' 'Health Care' 'Consumer Services' 'Public Utilities'\n",
            " 'Capital Goods' 'Miscellaneous' 'Transportation' nan\n",
            " 'Consumer Non-Durables']\n"
          ],
          "name": "stdout"
        }
      ]
    },
    {
      "cell_type": "code",
      "metadata": {
        "id": "MsuqSFK4Zzw6"
      },
      "source": [
        "df.to_csv('/content/drive/MyDrive/Entwicklung/IndexAnalyzer/nasdaq100.csv')"
      ],
      "execution_count": 14,
      "outputs": []
    },
    {
      "cell_type": "code",
      "metadata": {
        "id": "tb9Al8MWnMIy"
      },
      "source": [
        "ndx_prices_df = pd.read_csv('/content/drive/MyDrive/Entwicklung/IndexAnalyzer/ndxdata.csv')\n",
        "ndx_prices_df"
      ],
      "execution_count": null,
      "outputs": []
    },
    {
      "cell_type": "code",
      "metadata": {
        "id": "7XKleooGnvTH"
      },
      "source": [
        "nasdaq_df = nasdaq_df.reset_index()\n",
        "\n",
        "nasdaq_df\n",
        "\n",
        "\n",
        "\n"
      ],
      "execution_count": null,
      "outputs": []
    },
    {
      "cell_type": "code",
      "metadata": {
        "id": "xIa5sPaOXNky"
      },
      "source": [
        "fangplus_symbols =['AMZN','FB','AAPL','GOOG','GOOGL','MSFT']\n",
        "\n",
        "ndx100 = nasdaq_df.loc[nasdaq_df['Symbol'].isin(nasdaq100_df['Ticker'].tolist()) ]\n",
        "ndx100_no_faang = ndx100.loc[~ndx100['Symbol'].isin(fangplus_symbols) ]\n",
        "ndx100_no_faang_tech = ndx100_no_faang.loc[ndx100_no_faang['Sector'] =='Technology']\n",
        "ndx100_no_faang_no_tech = ndx100_no_faang.loc[ndx100_no_faang['Sector'] !='Technology']\n",
        "\n",
        "ndx100_no_faang_no_tech"
      ],
      "execution_count": null,
      "outputs": []
    },
    {
      "cell_type": "code",
      "metadata": {
        "id": "YYb7VZ5W5cqi"
      },
      "source": [
        "def creade_market_cap_record(market_cap_df,group_name, symbols_group,stock_prices_df ):\n",
        "  compare_date1 = 20210216\n",
        "  compare_date2 = 20210427\n",
        "  print(symbols_group)\n",
        "\n",
        "  for symbol in symbols_group:\n",
        "    price_data1 = stock_prices_df.loc[(stock_prices_df['DateTime'] == compare_date1) & (stock_prices_df['Symbol'] == symbol)]['Price'].iloc[0]\n",
        "    price_data2 = stock_prices_df.loc[(stock_prices_df['DateTime'] == compare_date2) & (stock_prices_df['Symbol'] == symbol)]['Price'].iloc[0]\n",
        "    number_shares =df.loc[symbol]['No Shares']\n",
        "    #print(price_data1,\"\", price_data2, '', number_shares)\n",
        " \n",
        "    data_record =[ [group_name,symbol,compare_date1,number_shares*price_data1,compare_date2,number_shares*price_data2]]\n",
        "    #print(data_record)\n",
        "    market_cap_df = market_cap_df.append(pd.DataFrame(data_record, columns=market_cap_groups_cols))\n",
        "    \n",
        "  return market_cap_df\n",
        "  \n"
      ],
      "execution_count": 23,
      "outputs": []
    },
    {
      "cell_type": "code",
      "metadata": {
        "id": "2QuKjM3FBygY"
      },
      "source": [
        "market_cap_groups_cols = ['Group','Symbol', 'Date1', 'Market Cap 1', 'Date2','Market Cap 2']\n",
        "market_cap_groups_df = pd.DataFrame(columns=market_cap_groups_cols)\n",
        "\n",
        "market_cap_groups_df =creade_market_cap_record( market_cap_groups_df,\"FAANG+\", fangplus_symbols,ndx_prices_df)\n",
        "market_cap_groups_df =creade_market_cap_record( market_cap_groups_df,\"TECH\", ndx100_no_faang_tech['Symbol'].tolist(),ndx_prices_df)\n",
        "market_cap_groups_df =creade_market_cap_record( market_cap_groups_df,\"OTHERS\", ndx100_no_faang_no_tech['Symbol'].tolist(),ndx_prices_df)\n",
        "\n",
        "\n",
        "market_cap_groups_df.loc[market_cap_groups_df['Symbol'].isin(['GOOG', 'GOOGL']),['Market Cap 1','Market Cap 2']] *=0.5\n",
        "market_cap_groups_df['Percent1'] = (market_cap_groups_df['Market Cap 1'] / market_cap_groups_df['Market Cap 1'].sum()) * 100\n",
        "market_cap_groups_df['Percent2'] = (market_cap_groups_df['Market Cap 2'] / market_cap_groups_df['Market Cap 2'].sum()) * 100\n",
        "market_cap_grouped_df = market_cap_groups_df.groupby('Group').sum()\n",
        "\n",
        "market_cap_grouped_df['Delta'] = market_cap_grouped_df['Percent2']-market_cap_grouped_df['Percent1']\n",
        "market_cap_groups_df[market_cap_groups_df['Group'] == 'TECH']"
      ],
      "execution_count": null,
      "outputs": []
    },
    {
      "cell_type": "code",
      "metadata": {
        "colab": {
          "base_uri": "https://localhost:8080/",
          "height": 461
        },
        "id": "MSvA9as9GsSn",
        "outputId": "5e6d097c-8416-4b37-c6c4-4e85b5e45d1e"
      },
      "source": [
        "market_cap_grouped_df[['Percent1', 'Percent2']].plot(kind=\"bar\")\n",
        "market_cap_grouped_df\n",
        "\n"
      ],
      "execution_count": 34,
      "outputs": [
        {
          "output_type": "execute_result",
          "data": {
            "text/html": [
              "<div>\n",
              "<style scoped>\n",
              "    .dataframe tbody tr th:only-of-type {\n",
              "        vertical-align: middle;\n",
              "    }\n",
              "\n",
              "    .dataframe tbody tr th {\n",
              "        vertical-align: top;\n",
              "    }\n",
              "\n",
              "    .dataframe thead th {\n",
              "        text-align: right;\n",
              "    }\n",
              "</style>\n",
              "<table border=\"1\" class=\"dataframe\">\n",
              "  <thead>\n",
              "    <tr style=\"text-align: right;\">\n",
              "      <th></th>\n",
              "      <th>Market Cap 1</th>\n",
              "      <th>Market Cap 2</th>\n",
              "      <th>Percent1</th>\n",
              "      <th>Percent2</th>\n",
              "      <th>Delta</th>\n",
              "    </tr>\n",
              "    <tr>\n",
              "      <th>Group</th>\n",
              "      <th></th>\n",
              "      <th></th>\n",
              "      <th></th>\n",
              "      <th></th>\n",
              "      <th></th>\n",
              "    </tr>\n",
              "  </thead>\n",
              "  <tbody>\n",
              "    <tr>\n",
              "      <th>FAANG+</th>\n",
              "      <td>7.988089e+12</td>\n",
              "      <td>8.481669e+12</td>\n",
              "      <td>47.710504</td>\n",
              "      <td>49.778876</td>\n",
              "      <td>2.068372</td>\n",
              "    </tr>\n",
              "    <tr>\n",
              "      <th>OTHERS</th>\n",
              "      <td>5.314428e+12</td>\n",
              "      <td>5.151642e+12</td>\n",
              "      <td>31.741516</td>\n",
              "      <td>30.234963</td>\n",
              "      <td>-1.506553</td>\n",
              "    </tr>\n",
              "    <tr>\n",
              "      <th>TECH</th>\n",
              "      <td>3.440313e+12</td>\n",
              "      <td>3.405380e+12</td>\n",
              "      <td>20.547980</td>\n",
              "      <td>19.986161</td>\n",
              "      <td>-0.561819</td>\n",
              "    </tr>\n",
              "  </tbody>\n",
              "</table>\n",
              "</div>"
            ],
            "text/plain": [
              "        Market Cap 1  Market Cap 2   Percent1   Percent2     Delta\n",
              "Group                                                             \n",
              "FAANG+  7.988089e+12  8.481669e+12  47.710504  49.778876  2.068372\n",
              "OTHERS  5.314428e+12  5.151642e+12  31.741516  30.234963 -1.506553\n",
              "TECH    3.440313e+12  3.405380e+12  20.547980  19.986161 -0.561819"
            ]
          },
          "metadata": {
            "tags": []
          },
          "execution_count": 34
        },
        {
          "output_type": "display_data",
          "data": {
            "image/png": "[encoded data removed]",
            "text/plain": [
              "<Figure size 432x288 with 1 Axes>"
            ]
          },
          "metadata": {
            "tags": [],
            "needs_background": "light"
          }
        }
      ]
    }
  ]
}